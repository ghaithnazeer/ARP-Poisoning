{
 "cells": [
  {
   "cell_type": "code",
   "execution_count": 1,
   "id": "4e607328",
   "metadata": {},
   "outputs": [],
   "source": [
    "import numpy as np\n",
    "import pandas as pd\n",
    "import time"
   ]
  },
  {
   "cell_type": "code",
   "execution_count": 2,
   "id": "d0948586",
   "metadata": {},
   "outputs": [],
   "source": [
    "data = pd.read_csv('ARP_Dataset.csv')\n",
    "\n",
    "for i in range(len(data)):\n",
    "    if(data['pkt_rate'][i] < 0):\n",
    "        data.drop(i,axis = 0,inplace = True)\n",
    "\n",
    "data = data.dropna()\n",
    "np.count_nonzero(data['Label'])\n",
    "\n",
    "count = 0\n",
    "random = np.random.randint(0,len(data),(50000))\n",
    "for i in random:\n",
    "    \n",
    "    if(count == 10000):\n",
    "        break\n",
    "    try:\n",
    "        index = data['Label'][i]\n",
    "    except:\n",
    "        continue\n",
    "    else:   \n",
    "        if(data['Label'][i] == 0):\n",
    "            data.drop(i,axis = 0,inplace = True)\n",
    "            count += 1"
   ]
  },
  {
   "cell_type": "code",
   "execution_count": 3,
   "id": "c35b1287",
   "metadata": {},
   "outputs": [],
   "source": [
    "np.count_nonzero(data['Label'])\n",
    "\n",
    "data['switch_id'] = data['switch_id'].astype(str) \n",
    "data['src_mac_addr(arp)'] = data['src_mac_addr(arp)'].astype(str)\n",
    "data['dst_mac_addr(arp)'] = data['dst_mac_addr(arp)'].astype(str)\n",
    "data['Protocol'] = data['Protocol'].astype(str)\n",
    "data['src_mac_addr(eth)'] = data['src_mac_addr(eth)'].astype(str) \n",
    "data['dst_mac_addr(eth)'] = data['dst_mac_addr(eth)'].astype(str)\n",
    "data['op_code(arp)'] = data['op_code(arp)'].astype(str) \n",
    "data['in_port'] = data['in_port'].astype(str) \n",
    "data['outport'] = data['outport'].astype(str) \n",
    "\n",
    "ordered_data = pd.get_dummies(data,\n",
    "                              columns = ['switch_id', 'in_port', 'outport', 'src_mac_addr(eth)','src_mac_addr(arp)', 'dst_mac_addr(eth)', 'dst_mac_addr(arp)','op_code(arp)', 'Protocol'])\n",
    "\n",
    "#ordered_data.head()\n",
    "columns = np.array(ordered_data.columns)\n",
    "\n",
    "#columns_dict = {string:i for i,string in enumerate(columns)}\n",
    "values = ordered_data.values"
   ]
  },
  {
   "cell_type": "code",
   "execution_count": 4,
   "id": "db49e34b",
   "metadata": {
    "scrolled": false
   },
   "outputs": [
    {
     "name": "stdout",
     "output_type": "stream",
     "text": [
      "(49466, 9)\n",
      "(49466, 18)\n",
      "(48228, 16)\n",
      "(49466, 16)\n",
      "(49466, 2)\n",
      "(49466, 4)\n"
     ]
    }
   ],
   "source": [
    "from sklearn.preprocessing import StandardScaler\n",
    "from sklearn.model_selection import train_test_split\n",
    "from keras.layers import Input, Conv1D, MaxPooling1D, LSTM, Dense\n",
    "from keras.callbacks import ModelCheckpoint\n",
    "\n",
    "# Convert MAC address columns into numerical features\n",
    "mac_columns = ['src_mac_addr(eth)', 'src_mac_addr(arp)', 'dst_mac_addr(eth)', 'dst_mac_addr(arp)']\n",
    "for col in mac_columns:\n",
    "    data[col] = data[col].apply(lambda x: sum(int(component, 16) * (256 ** i) for i, component in enumerate(x.split(':'))) if isinstance(x, str) else x)\n",
    "\n",
    "# Convert IP address columns into numerical features\n",
    "ip_columns = ['src_ip(arp)', 'dst_ip(arp)']\n",
    "for col in ip_columns:\n",
    "    data[col] = data[col].apply(lambda x: sum(int(component) * (256 ** i) for i, component in enumerate(x.split('.'))) if isinstance(x, str) else x)\n",
    "    \n",
    "# Convert remaining columns to string\n",
    "remaining_columns = [col for col in data.columns if col not in mac_columns]\n",
    "data[remaining_columns] = data[remaining_columns].astype(str)\n",
    "\n",
    "# Apply StandardScaler\n",
    "scaler = StandardScaler()\n",
    "scaled_values = scaler.fit_transform(data.values)\n",
    "\n",
    "# Select the desired slices from the arrays\n",
    "array1 = values[:, 17:26]\n",
    "array2 = values[:, 27:45]\n",
    "array3 = scaled_values[:48228, :16]\n",
    "array4 = values[:, 46:62]\n",
    "array5 = values[:, 63:65]\n",
    "array6 = values[:, 66:70]\n",
    "\n",
    "# Check the sizes of the selected arrays\n",
    "print(array1.shape)\n",
    "print(array2.shape)\n",
    "print(array3.shape)\n",
    "print(array4.shape)\n",
    "print(array5.shape)\n",
    "print(array6.shape)\n",
    "\n",
    "# Create new arrays with the correct sizes\n",
    "num_rows = min(array1.shape[0], array2.shape[0], array3.shape[0], array4.shape[0], array5.shape[0], array6.shape[0])\n",
    "new_array1 = array1[:num_rows]\n",
    "new_array2 = array2[:num_rows]\n",
    "new_array3 = array3[:num_rows]\n",
    "new_array4 = array4[:num_rows]\n",
    "new_array5 = array5[:num_rows]\n",
    "new_array6 = array6[:num_rows]\n",
    "\n",
    "# Concatenate the arrays\n",
    "new_values = np.hstack([new_array1, new_array2, new_array3, new_array4, new_array5, new_array6])"
   ]
  },
  {
   "cell_type": "code",
   "execution_count": 5,
   "id": "30274e69",
   "metadata": {
    "scrolled": true
   },
   "outputs": [],
   "source": [
    "labels = values[:, 16]\n",
    "new_values = new_values[:48228]\n",
    "labels = labels[:48228]\n",
    "\n",
    "X_train,X_test,Y_train,Y_test = train_test_split(new_values,\n",
    "                                                   labels,test_size = 0.1)    \n",
    "X_test,X_valid,Y_test,Y_valid = train_test_split(X_test,Y_test,\n",
    "                                                 test_size = 0.5)\n",
    "\n",
    "X_train = X_train.reshape(len(X_train),65,1)\n",
    "X_valid = X_valid.reshape(len(X_valid),65,1)\n",
    "X_test = X_test.reshape(len(X_test),65,1)\n",
    "X_train = X_train.astype('float32')\n",
    "Y_train = Y_train.astype('float32')\n",
    "X_valid = X_valid.astype('float32')\n",
    "Y_valid = Y_valid.astype('float32')"
   ]
  },
  {
   "cell_type": "code",
   "execution_count": null,
   "id": "10b6ba00",
   "metadata": {},
   "outputs": [
    {
     "name": "stdout",
     "output_type": "stream",
     "text": [
      "Epoch 1/10\n",
      "369/679 [===============>..............] - ETA: 38s - loss: 0.3237 - accuracy: 0.8922"
     ]
    }
   ],
   "source": [
    "from keras.layers import Input, Conv1D, MaxPooling1D, LSTM, Dense\n",
    "from keras.models import Model\n",
    "from keras.callbacks import ModelCheckpoint\n",
    "\n",
    "begin_time = time.time()\n",
    "\n",
    "inputs = Input(shape=(65, 1,))\n",
    "x = Conv1D(filters=64, kernel_size=3, padding='same', activation='relu')(inputs)\n",
    "x = MaxPooling1D(pool_size=2, padding='same')(x)\n",
    "x = LSTM(128, return_sequences=True)(x)\n",
    "x = LSTM(128)(x)\n",
    "outputs = Dense(1, activation='sigmoid')(x)\n",
    "\n",
    "model = Model(inputs=inputs, outputs=outputs)\n",
    "model.compile(loss='binary_crossentropy', optimizer='adam', metrics=['accuracy'])\n",
    "\n",
    "filepath = \"best_weights_CNN_LSTM.hdf5\"\n",
    "checkpoint = ModelCheckpoint(filepath, monitor='val_accuracy', verbose=1, save_best_only=True, mode='max')\n",
    "callbacks_list = [checkpoint]\n",
    "\n",
    "history = model.fit(X_train.reshape(len(X_train),65,1), Y_train, validation_data=[X_valid.reshape(len(X_valid),65,1), Y_valid], epochs=10, batch_size=64, callbacks=callbacks_list)\n"
   ]
  },
  {
   "cell_type": "code",
   "execution_count": 7,
   "id": "2783bb40",
   "metadata": {},
   "outputs": [
    {
     "data": {
      "text/plain": [
       "<matplotlib.legend.Legend at 0x251a9a9a2c0>"
      ]
     },
     "execution_count": 7,
     "metadata": {},
     "output_type": "execute_result"
    },
    {
     "data": {
      "image/png": "[encoded data removed]",
      "text/plain": [
       "<Figure size 640x480 with 1 Axes>"
      ]
     },
     "metadata": {},
     "output_type": "display_data"
    }
   ],
   "source": [
    "#summarize history on classification Accuracy\n",
    "import matplotlib.pyplot as plt\n",
    "x = np.linspace(0,9,10,dtype = np.int32)\n",
    "\n",
    "training_accuracy = np.array(history.history['accuracy'])\n",
    "validation_accuracy = np.array(history.history['val_accuracy'])\n",
    "\n",
    "plt.plot(x,training_accuracy[x],color = 'blue',label = 'Train')\n",
    "plt.plot(x,validation_accuracy[x],color = 'orange',label = 'Valid')\n",
    "\n",
    "plt.xlim(-1,11)\n",
    "plt.ylim(0.70,1.0)\n",
    "\n",
    "plt.xlabel('Epochs')\n",
    "plt.ylabel('Accuracy')\n",
    "plt.title('CNN_LSTM Classification Accuracy')\n",
    "plt.legend(frameon = True,loc = 'lower right')"
   ]
  },
  {
   "cell_type": "code",
   "execution_count": 8,
   "id": "2f434caa",
   "metadata": {
    "scrolled": true
   },
   "outputs": [
    {
     "name": "stdout",
     "output_type": "stream",
     "text": [
      "76/76 [==============================] - 2s 13ms/step\n"
     ]
    },
    {
     "data": {
      "image/png": "[encoded data removed]",
      "text/plain": [
       "<Figure size 640x480 with 1 Axes>"
      ]
     },
     "metadata": {},
     "output_type": "display_data"
    }
   ],
   "source": [
    "#summarize history on classification loss\n",
    "X_test = X_test.astype('float32')\n",
    "training_loss = np.array(history.history['loss'])\n",
    "validation_loss = np.array(history.history['val_loss'])\n",
    "\n",
    "plt.plot(x,training_loss[x],color = 'blue',label = 'Train')\n",
    "plt.plot(x,validation_loss[x],color = 'orange',label = 'Valid')\n",
    "\n",
    "plt.xlim(-1,11)\n",
    "plt.ylim(-0.1,0.45)\n",
    "\n",
    "plt.xlabel('Epochs')\n",
    "plt.ylabel('Loss')\n",
    "plt.title('CNN_LSTM Classification Loss')\n",
    "plt.legend(frameon = True,loc = 'upper right')\n",
    "\n",
    "predict = model.predict(X_test)\n",
    "predict= np.round(predict)\n",
    "predict = [int(x) for x in predict]\n",
    "from sklearn.metrics import confusion_matrix\n",
    "\n",
    "Y_test = Y_test.astype(int)\n",
    "predict = np.array(predict).astype(int)\n",
    "\n",
    "tp_ls,fp_ls,fn_ls,tn_ls = confusion_matrix(Y_test, predict).ravel()\n",
    "acc_ls=(tp_ls+tn_ls)/(tp_ls+fp_ls+fn_ls+tn_ls)\n",
    "rec_ls=tp_ls/(tp_ls+fn_ls)\n",
    "rec_lsa=tn_ls/(tn_ls+fp_ls)\n",
    "pre_ls=tp_ls/(tp_ls+fp_ls)\n",
    "pre_lsa=tn_ls/(tn_ls+fn_ls)\n",
    "fpr_ls=fp_ls/(fp_ls+tn_ls)\n",
    "fnr_ls=fn_ls/(fn_ls+tp_ls)\n",
    "f_ls=2*pre_ls*rec_ls/(pre_ls+rec_ls)\n",
    "f_lsa=2*pre_lsa*rec_lsa/(pre_lsa+rec_lsa)"
   ]
  },
  {
   "cell_type": "code",
   "execution_count": 12,
   "id": "e7fc5ce7",
   "metadata": {},
   "outputs": [],
   "source": [
    "import csv\n",
    "from keras.models import load_model\n",
    "from tensorflow.keras.preprocessing.sequence import pad_sequences\n",
    "from scapy.all import ARP, sniff\n"
   ]
  },
  {
   "cell_type": "code",
   "execution_count": 13,
   "id": "4c3a218b",
   "metadata": {},
   "outputs": [],
   "source": [
    "# Initialize CSV file\n",
    "def init_arpcsv():\n",
    "    fname = \"arp_stats.csv\"\n",
    "    writ = csv.writer(open(fname, 'w', buffering=1), delimiter=',')\n",
    "    header = [\"time\", \"src_mac_addr(arp)\", \"dst_mac_addr(arp)\", \"src_mac_addr(eth)\", \"dst_mac_addr(eth)\", \"src_ip(arp)\", \"dst_ip(arp)\", \"op_code(arp)\"]\n",
    "    writ.writerow(header)"
   ]
  },
  {
   "cell_type": "code",
   "execution_count": 14,
   "id": "191d5c5a",
   "metadata": {},
   "outputs": [],
   "source": [
    "# Update CSV file\n",
    "def update_arpcsv(packet):\n",
    "    fname = \"arp_stats.csv\"\n",
    "    writ = csv.writer(open(fname, 'a', buffering=1), delimiter=',')\n",
    "    ti = time.strftime(\"%m/%d/%Y, %H:%M:%S\", time.localtime())\n",
    "    row = [ti, packet[ARP].hwsrc, packet[ARP].hwdst, packet.src, packet.dst, packet[ARP].psrc, packet[ARP].pdst, packet[ARP].op]\n",
    "    writ.writerow(row)"
   ]
  },
  {
   "cell_type": "code",
   "execution_count": 15,
   "id": "6ca62ffb",
   "metadata": {},
   "outputs": [],
   "source": [
    "# Packet handler\n",
    "def arp_display(packet):\n",
    "    if packet.haslayer(ARP):  # who-has (request)\n",
    "        update_arpcsv(packet)\n",
    "\n",
    "        # Preprocess packet data for the model\n",
    "        data = np.array(packet[ARP])\n",
    "        data = pad_sequences(data, maxlen=65)\n",
    "        data = data.reshape(1, 65, 1)"
   ]
  },
  {
   "cell_type": "code",
   "execution_count": null,
   "id": "0e18644f",
   "metadata": {
    "scrolled": true
   },
   "outputs": [],
   "source": [
    "# Load your model\n",
    "model = load_model(\"best_weights_CNN_LSTM.hdf5\")\n",
    "\n",
    "# Define a list to store packet data\n",
    "packet_data = []\n",
    "\n",
    "# Define a dictionary to map MAC addresses to numerical representations\n",
    "mac_to_num = {}\n",
    "\n",
    "# Function to preprocess MAC addresses\n",
    "def preprocess_mac(mac):\n",
    "    if mac not in mac_to_num:\n",
    "        mac_to_num[mac] = len(mac_to_num)\n",
    "    return mac_to_num[mac]\n",
    "\n",
    "# Function to process each packet\n",
    "def arp_display(packet):\n",
    "    global packet_data\n",
    "\n",
    "    data = packet[ARP].hwsrc\n",
    "    packet_data.append(preprocess_mac(data))\n",
    "\n",
    "    return packet\n",
    "    \n",
    "# Function to process each packet\n",
    "def arp_display(packet):\n",
    "    global packet_data\n",
    "\n",
    "    data = packet[ARP].hwsrc\n",
    "    packet_data.append(preprocess_mac(data))\n",
    "\n",
    "    from sklearn.preprocessing import LabelEncoder\n",
    "    \n",
    "    # Encode the string data\n",
    "    encoded_data = label_encoder.fit_transform(packet_data)\n",
    "\n",
    "    # Preprocess packet data for the model\n",
    "    processed_data = pad_sequences(np.array([encoded_data]), maxlen=65, dtype=float)\n",
    "\n",
    "    # Reshape the processed_data array if needed\n",
    "    processed_data = processed_data.reshape(1, 65, 1)  # Adjust the shape as per your model's requirements\n",
    "\n",
    "    # Predict using the model\n",
    "    prediction = model.predict(processed_data)\n",
    "\n",
    "    if prediction > 0.5:  # Set a threshold for detection\n",
    "        print(\"Poisoning detected!\")\n",
    "        print(\"Request: \" + packet[ARP].psrc + \" is asking about \" + packet[ARP].pdst)\n",
    "        print(\"Response: \" + packet[ARP].hwsrc + \" has address \" + packet[ARP].psrc)\n",
    "\n",
    "# Start sniffing\n",
    "sniff(prn=arp_display, filter=\"arp\", store=0)"
   ]
  },
  {
   "cell_type": "code",
   "execution_count": null,
   "id": "4b3fca42",
   "metadata": {},
   "outputs": [],
   "source": []
  }
 ],
 "metadata": {
  "kernelspec": {
   "display_name": "Python 3 (ipykernel)",
   "language": "python",
   "name": "python3"
  },
  "language_info": {
   "codemirror_mode": {
    "name": "ipython",
    "version": 3
   },
   "file_extension": ".py",
   "mimetype": "text/x-python",
   "name": "python",
   "nbconvert_exporter": "python",
   "pygments_lexer": "ipython3",
   "version": "3.10.9"
  }
 },
 "nbformat": 4,
 "nbformat_minor": 5
}
